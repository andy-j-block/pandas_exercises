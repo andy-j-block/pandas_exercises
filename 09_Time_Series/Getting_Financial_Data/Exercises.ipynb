{
 "cells": [
  {
   "cell_type": "markdown",
   "metadata": {},
   "source": [
    "# Getting Financial Data - Pandas Datareader"
   ]
  },
  {
   "cell_type": "markdown",
   "metadata": {},
   "source": [
    "### Introduction:\n",
    "\n",
    "This time you will get data from a website.\n",
    "\n",
    "\n",
    "### Step 1. Import the necessary libraries"
   ]
  },
  {
   "cell_type": "code",
   "execution_count": 1,
   "metadata": {},
   "outputs": [],
   "source": [
    "import pandas as pd\n",
    "import datetime as dt\n",
    "import numpy as np\n",
    "import pandas_datareader as pdr"
   ]
  },
  {
   "cell_type": "markdown",
   "metadata": {},
   "source": [
    "### Step 2. Create your time range (start and end variables). The start date should be 01/01/2015 and the end should today (whatever your today is)."
   ]
  },
  {
   "cell_type": "code",
   "execution_count": 2,
   "metadata": {},
   "outputs": [
    {
     "data": {
      "text/plain": [
       "2147"
      ]
     },
     "execution_count": 2,
     "metadata": {},
     "output_type": "execute_result"
    }
   ],
   "source": [
    "date_range = pd.date_range(start='1/1/2015', end=dt.date.today())\n",
    "len(date_range)"
   ]
  },
  {
   "cell_type": "markdown",
   "metadata": {},
   "source": [
    "### Step 3. Get an API key for one of the APIs that are supported by Pandas Datareader, preferably for AlphaVantage.\n",
    "\n",
    "If you do not have an API key for any of the supported APIs, it is easiest to get one for [AlphaVantage](https://www.alphavantage.co/support/#api-key). (Note that the API key is shown directly after the signup. You do *not* receive it via e-mail.)\n",
    "\n",
    "(For a full list of the APIs that are supported by Pandas Datareader, [see here](https://pydata.github.io/pandas-datareader/readers/index.html). As the APIs are provided by third parties, this list may change.)"
   ]
  },
  {
   "cell_type": "markdown",
   "metadata": {},
   "source": [
    "### Step 4. Use Pandas Datarader to read the daily time series for the Apple stock (ticker symbol AAPL) between 01/01/2015 and today, assign it to df_apple and print it."
   ]
  },
  {
   "cell_type": "code",
   "execution_count": 7,
   "metadata": {},
   "outputs": [
    {
     "data": {
      "text/html": [
       "<div>\n",
       "<style scoped>\n",
       "    .dataframe tbody tr th:only-of-type {\n",
       "        vertical-align: middle;\n",
       "    }\n",
       "\n",
       "    .dataframe tbody tr th {\n",
       "        vertical-align: top;\n",
       "    }\n",
       "\n",
       "    .dataframe thead th {\n",
       "        text-align: right;\n",
       "    }\n",
       "</style>\n",
       "<table border=\"1\" class=\"dataframe\">\n",
       "  <thead>\n",
       "    <tr style=\"text-align: right;\">\n",
       "      <th></th>\n",
       "      <th>open</th>\n",
       "      <th>high</th>\n",
       "      <th>low</th>\n",
       "      <th>close</th>\n",
       "      <th>volume</th>\n",
       "    </tr>\n",
       "  </thead>\n",
       "  <tbody>\n",
       "    <tr>\n",
       "      <th>2015-01-02</th>\n",
       "      <td>111.39</td>\n",
       "      <td>111.4400</td>\n",
       "      <td>107.350</td>\n",
       "      <td>109.33</td>\n",
       "      <td>53204626</td>\n",
       "    </tr>\n",
       "    <tr>\n",
       "      <th>2015-01-05</th>\n",
       "      <td>108.29</td>\n",
       "      <td>108.6500</td>\n",
       "      <td>105.410</td>\n",
       "      <td>106.25</td>\n",
       "      <td>64285491</td>\n",
       "    </tr>\n",
       "    <tr>\n",
       "      <th>2015-01-06</th>\n",
       "      <td>106.54</td>\n",
       "      <td>107.4300</td>\n",
       "      <td>104.630</td>\n",
       "      <td>106.26</td>\n",
       "      <td>65797116</td>\n",
       "    </tr>\n",
       "    <tr>\n",
       "      <th>2015-01-07</th>\n",
       "      <td>107.20</td>\n",
       "      <td>108.2000</td>\n",
       "      <td>106.695</td>\n",
       "      <td>107.75</td>\n",
       "      <td>40105934</td>\n",
       "    </tr>\n",
       "    <tr>\n",
       "      <th>2015-01-08</th>\n",
       "      <td>109.23</td>\n",
       "      <td>112.1500</td>\n",
       "      <td>108.700</td>\n",
       "      <td>111.89</td>\n",
       "      <td>59364547</td>\n",
       "    </tr>\n",
       "    <tr>\n",
       "      <th>...</th>\n",
       "      <td>...</td>\n",
       "      <td>...</td>\n",
       "      <td>...</td>\n",
       "      <td>...</td>\n",
       "      <td>...</td>\n",
       "    </tr>\n",
       "    <tr>\n",
       "      <th>2020-11-10</th>\n",
       "      <td>115.55</td>\n",
       "      <td>117.5900</td>\n",
       "      <td>114.130</td>\n",
       "      <td>115.97</td>\n",
       "      <td>138023390</td>\n",
       "    </tr>\n",
       "    <tr>\n",
       "      <th>2020-11-11</th>\n",
       "      <td>117.19</td>\n",
       "      <td>119.6300</td>\n",
       "      <td>116.440</td>\n",
       "      <td>119.49</td>\n",
       "      <td>112294954</td>\n",
       "    </tr>\n",
       "    <tr>\n",
       "      <th>2020-11-12</th>\n",
       "      <td>119.62</td>\n",
       "      <td>120.5300</td>\n",
       "      <td>118.570</td>\n",
       "      <td>119.21</td>\n",
       "      <td>103350674</td>\n",
       "    </tr>\n",
       "    <tr>\n",
       "      <th>2020-11-13</th>\n",
       "      <td>119.44</td>\n",
       "      <td>119.6717</td>\n",
       "      <td>117.870</td>\n",
       "      <td>119.26</td>\n",
       "      <td>81688586</td>\n",
       "    </tr>\n",
       "    <tr>\n",
       "      <th>2020-11-16</th>\n",
       "      <td>118.92</td>\n",
       "      <td>120.9900</td>\n",
       "      <td>118.146</td>\n",
       "      <td>120.30</td>\n",
       "      <td>89980305</td>\n",
       "    </tr>\n",
       "  </tbody>\n",
       "</table>\n",
       "<p>1480 rows × 5 columns</p>\n",
       "</div>"
      ],
      "text/plain": [
       "              open      high      low   close     volume\n",
       "2015-01-02  111.39  111.4400  107.350  109.33   53204626\n",
       "2015-01-05  108.29  108.6500  105.410  106.25   64285491\n",
       "2015-01-06  106.54  107.4300  104.630  106.26   65797116\n",
       "2015-01-07  107.20  108.2000  106.695  107.75   40105934\n",
       "2015-01-08  109.23  112.1500  108.700  111.89   59364547\n",
       "...            ...       ...      ...     ...        ...\n",
       "2020-11-10  115.55  117.5900  114.130  115.97  138023390\n",
       "2020-11-11  117.19  119.6300  116.440  119.49  112294954\n",
       "2020-11-12  119.62  120.5300  118.570  119.21  103350674\n",
       "2020-11-13  119.44  119.6717  117.870  119.26   81688586\n",
       "2020-11-16  118.92  120.9900  118.146  120.30   89980305\n",
       "\n",
       "[1480 rows x 5 columns]"
      ]
     },
     "execution_count": 7,
     "metadata": {},
     "output_type": "execute_result"
    }
   ],
   "source": [
    "df_apple = pdr.av.time_series.AVTimeSeriesReader(symbols='AAPL', start=date_range[0],end=date_range[-1],api_key='XVI92QWK6G47WZ0I')\n",
    "df_apple.read()"
   ]
  },
  {
   "cell_type": "markdown",
   "metadata": {},
   "source": [
    "### Step 5. Add a new column \"stock\" to the dataframe and add the ticker symbol"
   ]
  },
  {
   "cell_type": "code",
   "execution_count": 14,
   "metadata": {},
   "outputs": [
    {
     "data": {
      "text/html": [
       "<div>\n",
       "<style scoped>\n",
       "    .dataframe tbody tr th:only-of-type {\n",
       "        vertical-align: middle;\n",
       "    }\n",
       "\n",
       "    .dataframe tbody tr th {\n",
       "        vertical-align: top;\n",
       "    }\n",
       "\n",
       "    .dataframe thead th {\n",
       "        text-align: right;\n",
       "    }\n",
       "</style>\n",
       "<table border=\"1\" class=\"dataframe\">\n",
       "  <thead>\n",
       "    <tr style=\"text-align: right;\">\n",
       "      <th></th>\n",
       "      <th>open</th>\n",
       "      <th>high</th>\n",
       "      <th>low</th>\n",
       "      <th>close</th>\n",
       "      <th>volume</th>\n",
       "    </tr>\n",
       "  </thead>\n",
       "  <tbody>\n",
       "    <tr>\n",
       "      <th>2015-01-02</th>\n",
       "      <td>111.39</td>\n",
       "      <td>111.44</td>\n",
       "      <td>107.350</td>\n",
       "      <td>109.33</td>\n",
       "      <td>53204626</td>\n",
       "    </tr>\n",
       "    <tr>\n",
       "      <th>2015-01-05</th>\n",
       "      <td>108.29</td>\n",
       "      <td>108.65</td>\n",
       "      <td>105.410</td>\n",
       "      <td>106.25</td>\n",
       "      <td>64285491</td>\n",
       "    </tr>\n",
       "    <tr>\n",
       "      <th>2015-01-06</th>\n",
       "      <td>106.54</td>\n",
       "      <td>107.43</td>\n",
       "      <td>104.630</td>\n",
       "      <td>106.26</td>\n",
       "      <td>65797116</td>\n",
       "    </tr>\n",
       "    <tr>\n",
       "      <th>2015-01-07</th>\n",
       "      <td>107.20</td>\n",
       "      <td>108.20</td>\n",
       "      <td>106.695</td>\n",
       "      <td>107.75</td>\n",
       "      <td>40105934</td>\n",
       "    </tr>\n",
       "    <tr>\n",
       "      <th>2015-01-08</th>\n",
       "      <td>109.23</td>\n",
       "      <td>112.15</td>\n",
       "      <td>108.700</td>\n",
       "      <td>111.89</td>\n",
       "      <td>59364547</td>\n",
       "    </tr>\n",
       "  </tbody>\n",
       "</table>\n",
       "</div>"
      ],
      "text/plain": [
       "              open    high      low   close    volume\n",
       "2015-01-02  111.39  111.44  107.350  109.33  53204626\n",
       "2015-01-05  108.29  108.65  105.410  106.25  64285491\n",
       "2015-01-06  106.54  107.43  104.630  106.26  65797116\n",
       "2015-01-07  107.20  108.20  106.695  107.75  40105934\n",
       "2015-01-08  109.23  112.15  108.700  111.89  59364547"
      ]
     },
     "execution_count": 14,
     "metadata": {},
     "output_type": "execute_result"
    }
   ],
   "source": [
    "df_apple= pd.DataFrame(data=df_apple.read())\n",
    "df_apple.head()"
   ]
  },
  {
   "cell_type": "code",
   "execution_count": 16,
   "metadata": {},
   "outputs": [
    {
     "data": {
      "text/html": [
       "<div>\n",
       "<style scoped>\n",
       "    .dataframe tbody tr th:only-of-type {\n",
       "        vertical-align: middle;\n",
       "    }\n",
       "\n",
       "    .dataframe tbody tr th {\n",
       "        vertical-align: top;\n",
       "    }\n",
       "\n",
       "    .dataframe thead th {\n",
       "        text-align: right;\n",
       "    }\n",
       "</style>\n",
       "<table border=\"1\" class=\"dataframe\">\n",
       "  <thead>\n",
       "    <tr style=\"text-align: right;\">\n",
       "      <th></th>\n",
       "      <th>open</th>\n",
       "      <th>high</th>\n",
       "      <th>low</th>\n",
       "      <th>close</th>\n",
       "      <th>volume</th>\n",
       "      <th>stock</th>\n",
       "    </tr>\n",
       "  </thead>\n",
       "  <tbody>\n",
       "    <tr>\n",
       "      <th>2015-01-02</th>\n",
       "      <td>111.39</td>\n",
       "      <td>111.44</td>\n",
       "      <td>107.350</td>\n",
       "      <td>109.33</td>\n",
       "      <td>53204626</td>\n",
       "      <td>AAPL</td>\n",
       "    </tr>\n",
       "    <tr>\n",
       "      <th>2015-01-05</th>\n",
       "      <td>108.29</td>\n",
       "      <td>108.65</td>\n",
       "      <td>105.410</td>\n",
       "      <td>106.25</td>\n",
       "      <td>64285491</td>\n",
       "      <td>AAPL</td>\n",
       "    </tr>\n",
       "    <tr>\n",
       "      <th>2015-01-06</th>\n",
       "      <td>106.54</td>\n",
       "      <td>107.43</td>\n",
       "      <td>104.630</td>\n",
       "      <td>106.26</td>\n",
       "      <td>65797116</td>\n",
       "      <td>AAPL</td>\n",
       "    </tr>\n",
       "    <tr>\n",
       "      <th>2015-01-07</th>\n",
       "      <td>107.20</td>\n",
       "      <td>108.20</td>\n",
       "      <td>106.695</td>\n",
       "      <td>107.75</td>\n",
       "      <td>40105934</td>\n",
       "      <td>AAPL</td>\n",
       "    </tr>\n",
       "    <tr>\n",
       "      <th>2015-01-08</th>\n",
       "      <td>109.23</td>\n",
       "      <td>112.15</td>\n",
       "      <td>108.700</td>\n",
       "      <td>111.89</td>\n",
       "      <td>59364547</td>\n",
       "      <td>AAPL</td>\n",
       "    </tr>\n",
       "  </tbody>\n",
       "</table>\n",
       "</div>"
      ],
      "text/plain": [
       "              open    high      low   close    volume stock\n",
       "2015-01-02  111.39  111.44  107.350  109.33  53204626  AAPL\n",
       "2015-01-05  108.29  108.65  105.410  106.25  64285491  AAPL\n",
       "2015-01-06  106.54  107.43  104.630  106.26  65797116  AAPL\n",
       "2015-01-07  107.20  108.20  106.695  107.75  40105934  AAPL\n",
       "2015-01-08  109.23  112.15  108.700  111.89  59364547  AAPL"
      ]
     },
     "execution_count": 16,
     "metadata": {},
     "output_type": "execute_result"
    }
   ],
   "source": [
    "df_apple['stock'] = 'AAPL'\n",
    "df_apple.head()"
   ]
  },
  {
   "cell_type": "markdown",
   "metadata": {},
   "source": [
    "### Step 6. Repeat the two previous steps for a few other stocks, always creating a new dataframe: Tesla, IBM and Microsoft. (Ticker symbols TSLA, IBM and MSFT.)"
   ]
  },
  {
   "cell_type": "code",
   "execution_count": 17,
   "metadata": {},
   "outputs": [],
   "source": [
    "df_tesla = pdr.av.time_series.AVTimeSeriesReader(symbols='TSLA', start=date_range[0],end=date_range[-1],api_key='XVI92QWK6G47WZ0I')\n",
    "df_tesla = pd.DataFrame(data=df_tesla.read())"
   ]
  },
  {
   "cell_type": "code",
   "execution_count": 18,
   "metadata": {},
   "outputs": [],
   "source": [
    "df_ibm = pdr.av.time_series.AVTimeSeriesReader(symbols='IBM', start=date_range[0],end=date_range[-1],api_key='XVI92QWK6G47WZ0I')\n",
    "df_ibm = pd.DataFrame(data=df_ibm.read())"
   ]
  },
  {
   "cell_type": "code",
   "execution_count": 19,
   "metadata": {},
   "outputs": [],
   "source": [
    "df_microsoft = pdr.av.time_series.AVTimeSeriesReader(symbols='MSFT', start=date_range[0],end=date_range[-1],api_key='XVI92QWK6G47WZ0I')\n",
    "df_microsoft = pd.DataFrame(data=df_microsoft.read())"
   ]
  },
  {
   "cell_type": "code",
   "execution_count": 20,
   "metadata": {},
   "outputs": [],
   "source": [
    "df_tesla['stock'] = 'TSLA'\n",
    "df_ibm['stock'] = 'IBM'\n",
    "df_microsoft['stock'] = 'MSFT'"
   ]
  },
  {
   "cell_type": "markdown",
   "metadata": {},
   "source": [
    "### Step 7. Combine the four separate dataFrames into one combined dataFrame df that holds the information for all four stocks"
   ]
  },
  {
   "cell_type": "code",
   "execution_count": 25,
   "metadata": {},
   "outputs": [
    {
     "data": {
      "text/html": [
       "<div>\n",
       "<style scoped>\n",
       "    .dataframe tbody tr th:only-of-type {\n",
       "        vertical-align: middle;\n",
       "    }\n",
       "\n",
       "    .dataframe tbody tr th {\n",
       "        vertical-align: top;\n",
       "    }\n",
       "\n",
       "    .dataframe thead th {\n",
       "        text-align: right;\n",
       "    }\n",
       "</style>\n",
       "<table border=\"1\" class=\"dataframe\">\n",
       "  <thead>\n",
       "    <tr style=\"text-align: right;\">\n",
       "      <th></th>\n",
       "      <th>open</th>\n",
       "      <th>high</th>\n",
       "      <th>low</th>\n",
       "      <th>close</th>\n",
       "      <th>volume</th>\n",
       "      <th>stock</th>\n",
       "    </tr>\n",
       "  </thead>\n",
       "  <tbody>\n",
       "    <tr>\n",
       "      <th>2015-01-02</th>\n",
       "      <td>111.39</td>\n",
       "      <td>111.44</td>\n",
       "      <td>107.350</td>\n",
       "      <td>109.33</td>\n",
       "      <td>53204626</td>\n",
       "      <td>AAPL</td>\n",
       "    </tr>\n",
       "    <tr>\n",
       "      <th>2015-01-05</th>\n",
       "      <td>108.29</td>\n",
       "      <td>108.65</td>\n",
       "      <td>105.410</td>\n",
       "      <td>106.25</td>\n",
       "      <td>64285491</td>\n",
       "      <td>AAPL</td>\n",
       "    </tr>\n",
       "    <tr>\n",
       "      <th>2015-01-06</th>\n",
       "      <td>106.54</td>\n",
       "      <td>107.43</td>\n",
       "      <td>104.630</td>\n",
       "      <td>106.26</td>\n",
       "      <td>65797116</td>\n",
       "      <td>AAPL</td>\n",
       "    </tr>\n",
       "    <tr>\n",
       "      <th>2015-01-07</th>\n",
       "      <td>107.20</td>\n",
       "      <td>108.20</td>\n",
       "      <td>106.695</td>\n",
       "      <td>107.75</td>\n",
       "      <td>40105934</td>\n",
       "      <td>AAPL</td>\n",
       "    </tr>\n",
       "    <tr>\n",
       "      <th>2015-01-08</th>\n",
       "      <td>109.23</td>\n",
       "      <td>112.15</td>\n",
       "      <td>108.700</td>\n",
       "      <td>111.89</td>\n",
       "      <td>59364547</td>\n",
       "      <td>AAPL</td>\n",
       "    </tr>\n",
       "    <tr>\n",
       "      <th>...</th>\n",
       "      <td>...</td>\n",
       "      <td>...</td>\n",
       "      <td>...</td>\n",
       "      <td>...</td>\n",
       "      <td>...</td>\n",
       "      <td>...</td>\n",
       "    </tr>\n",
       "    <tr>\n",
       "      <th>2020-11-10</th>\n",
       "      <td>214.50</td>\n",
       "      <td>216.50</td>\n",
       "      <td>209.720</td>\n",
       "      <td>211.01</td>\n",
       "      <td>44045120</td>\n",
       "      <td>MSFT</td>\n",
       "    </tr>\n",
       "    <tr>\n",
       "      <th>2020-11-11</th>\n",
       "      <td>212.39</td>\n",
       "      <td>218.04</td>\n",
       "      <td>212.200</td>\n",
       "      <td>216.55</td>\n",
       "      <td>29440788</td>\n",
       "      <td>MSFT</td>\n",
       "    </tr>\n",
       "    <tr>\n",
       "      <th>2020-11-12</th>\n",
       "      <td>217.21</td>\n",
       "      <td>219.11</td>\n",
       "      <td>214.460</td>\n",
       "      <td>215.44</td>\n",
       "      <td>21616115</td>\n",
       "      <td>MSFT</td>\n",
       "    </tr>\n",
       "    <tr>\n",
       "      <th>2020-11-13</th>\n",
       "      <td>216.36</td>\n",
       "      <td>217.42</td>\n",
       "      <td>214.160</td>\n",
       "      <td>216.51</td>\n",
       "      <td>18630307</td>\n",
       "      <td>MSFT</td>\n",
       "    </tr>\n",
       "    <tr>\n",
       "      <th>2020-11-16</th>\n",
       "      <td>214.87</td>\n",
       "      <td>217.74</td>\n",
       "      <td>214.520</td>\n",
       "      <td>217.23</td>\n",
       "      <td>24469712</td>\n",
       "      <td>MSFT</td>\n",
       "    </tr>\n",
       "  </tbody>\n",
       "</table>\n",
       "<p>5920 rows × 6 columns</p>\n",
       "</div>"
      ],
      "text/plain": [
       "              open    high      low   close    volume stock\n",
       "2015-01-02  111.39  111.44  107.350  109.33  53204626  AAPL\n",
       "2015-01-05  108.29  108.65  105.410  106.25  64285491  AAPL\n",
       "2015-01-06  106.54  107.43  104.630  106.26  65797116  AAPL\n",
       "2015-01-07  107.20  108.20  106.695  107.75  40105934  AAPL\n",
       "2015-01-08  109.23  112.15  108.700  111.89  59364547  AAPL\n",
       "...            ...     ...      ...     ...       ...   ...\n",
       "2020-11-10  214.50  216.50  209.720  211.01  44045120  MSFT\n",
       "2020-11-11  212.39  218.04  212.200  216.55  29440788  MSFT\n",
       "2020-11-12  217.21  219.11  214.460  215.44  21616115  MSFT\n",
       "2020-11-13  216.36  217.42  214.160  216.51  18630307  MSFT\n",
       "2020-11-16  214.87  217.74  214.520  217.23  24469712  MSFT\n",
       "\n",
       "[5920 rows x 6 columns]"
      ]
     },
     "execution_count": 25,
     "metadata": {},
     "output_type": "execute_result"
    }
   ],
   "source": [
    "df = pd.concat([df_apple,df_tesla,df_ibm,df_microsoft])\n",
    "df"
   ]
  },
  {
   "cell_type": "markdown",
   "metadata": {},
   "source": [
    "### Step 8. Shift the stock column into the index (making it a multi-level index consisting of the ticker symbol and the date)."
   ]
  },
  {
   "cell_type": "code",
   "execution_count": 38,
   "metadata": {},
   "outputs": [
    {
     "data": {
      "text/plain": [
       "<PandasArray>\n",
       "['2015-01-02', '2015-01-05', '2015-01-06', '2015-01-07', '2015-01-08',\n",
       " '2015-01-09', '2015-01-12', '2015-01-13', '2015-01-14', '2015-01-15',\n",
       " ...\n",
       " '2020-11-03', '2020-11-04', '2020-11-05', '2020-11-06', '2020-11-09',\n",
       " '2020-11-10', '2020-11-11', '2020-11-12', '2020-11-13', '2020-11-16']\n",
       "Length: 5920, dtype: object"
      ]
     },
     "execution_count": 38,
     "metadata": {},
     "output_type": "execute_result"
    }
   ],
   "source": [
    "df.index.array"
   ]
  },
  {
   "cell_type": "code",
   "execution_count": 37,
   "metadata": {},
   "outputs": [
    {
     "data": {
      "text/plain": [
       "(5920,)"
      ]
     },
     "execution_count": 37,
     "metadata": {},
     "output_type": "execute_result"
    }
   ],
   "source": [
    "df.index.shape"
   ]
  },
  {
   "cell_type": "code",
   "execution_count": 35,
   "metadata": {},
   "outputs": [
    {
     "data": {
      "text/plain": [
       "array(['AAPL', 'AAPL', 'AAPL', ..., 'MSFT', 'MSFT', 'MSFT'], dtype=object)"
      ]
     },
     "execution_count": 35,
     "metadata": {},
     "output_type": "execute_result"
    }
   ],
   "source": [
    "df['stock'].values"
   ]
  },
  {
   "cell_type": "code",
   "execution_count": 36,
   "metadata": {},
   "outputs": [
    {
     "data": {
      "text/plain": [
       "(5920,)"
      ]
     },
     "execution_count": 36,
     "metadata": {},
     "output_type": "execute_result"
    }
   ],
   "source": [
    "df['stock'].values.shape"
   ]
  },
  {
   "cell_type": "code",
   "execution_count": 41,
   "metadata": {},
   "outputs": [
    {
     "data": {
      "text/html": [
       "<div>\n",
       "<style scoped>\n",
       "    .dataframe tbody tr th:only-of-type {\n",
       "        vertical-align: middle;\n",
       "    }\n",
       "\n",
       "    .dataframe tbody tr th {\n",
       "        vertical-align: top;\n",
       "    }\n",
       "\n",
       "    .dataframe thead th {\n",
       "        text-align: right;\n",
       "    }\n",
       "</style>\n",
       "<table border=\"1\" class=\"dataframe\">\n",
       "  <thead>\n",
       "    <tr style=\"text-align: right;\">\n",
       "      <th></th>\n",
       "      <th>open</th>\n",
       "      <th>high</th>\n",
       "      <th>low</th>\n",
       "      <th>close</th>\n",
       "      <th>volume</th>\n",
       "      <th>stock</th>\n",
       "    </tr>\n",
       "  </thead>\n",
       "  <tbody>\n",
       "    <tr>\n",
       "      <th>2015-01-02</th>\n",
       "      <td>111.39</td>\n",
       "      <td>111.44</td>\n",
       "      <td>107.350</td>\n",
       "      <td>109.33</td>\n",
       "      <td>53204626</td>\n",
       "      <td>AAPL</td>\n",
       "    </tr>\n",
       "    <tr>\n",
       "      <th>2015-01-05</th>\n",
       "      <td>108.29</td>\n",
       "      <td>108.65</td>\n",
       "      <td>105.410</td>\n",
       "      <td>106.25</td>\n",
       "      <td>64285491</td>\n",
       "      <td>AAPL</td>\n",
       "    </tr>\n",
       "    <tr>\n",
       "      <th>2015-01-06</th>\n",
       "      <td>106.54</td>\n",
       "      <td>107.43</td>\n",
       "      <td>104.630</td>\n",
       "      <td>106.26</td>\n",
       "      <td>65797116</td>\n",
       "      <td>AAPL</td>\n",
       "    </tr>\n",
       "    <tr>\n",
       "      <th>2015-01-07</th>\n",
       "      <td>107.20</td>\n",
       "      <td>108.20</td>\n",
       "      <td>106.695</td>\n",
       "      <td>107.75</td>\n",
       "      <td>40105934</td>\n",
       "      <td>AAPL</td>\n",
       "    </tr>\n",
       "    <tr>\n",
       "      <th>2015-01-08</th>\n",
       "      <td>109.23</td>\n",
       "      <td>112.15</td>\n",
       "      <td>108.700</td>\n",
       "      <td>111.89</td>\n",
       "      <td>59364547</td>\n",
       "      <td>AAPL</td>\n",
       "    </tr>\n",
       "    <tr>\n",
       "      <th>...</th>\n",
       "      <td>...</td>\n",
       "      <td>...</td>\n",
       "      <td>...</td>\n",
       "      <td>...</td>\n",
       "      <td>...</td>\n",
       "      <td>...</td>\n",
       "    </tr>\n",
       "    <tr>\n",
       "      <th>2020-11-10</th>\n",
       "      <td>214.50</td>\n",
       "      <td>216.50</td>\n",
       "      <td>209.720</td>\n",
       "      <td>211.01</td>\n",
       "      <td>44045120</td>\n",
       "      <td>MSFT</td>\n",
       "    </tr>\n",
       "    <tr>\n",
       "      <th>2020-11-11</th>\n",
       "      <td>212.39</td>\n",
       "      <td>218.04</td>\n",
       "      <td>212.200</td>\n",
       "      <td>216.55</td>\n",
       "      <td>29440788</td>\n",
       "      <td>MSFT</td>\n",
       "    </tr>\n",
       "    <tr>\n",
       "      <th>2020-11-12</th>\n",
       "      <td>217.21</td>\n",
       "      <td>219.11</td>\n",
       "      <td>214.460</td>\n",
       "      <td>215.44</td>\n",
       "      <td>21616115</td>\n",
       "      <td>MSFT</td>\n",
       "    </tr>\n",
       "    <tr>\n",
       "      <th>2020-11-13</th>\n",
       "      <td>216.36</td>\n",
       "      <td>217.42</td>\n",
       "      <td>214.160</td>\n",
       "      <td>216.51</td>\n",
       "      <td>18630307</td>\n",
       "      <td>MSFT</td>\n",
       "    </tr>\n",
       "    <tr>\n",
       "      <th>2020-11-16</th>\n",
       "      <td>214.87</td>\n",
       "      <td>217.74</td>\n",
       "      <td>214.520</td>\n",
       "      <td>217.23</td>\n",
       "      <td>24469712</td>\n",
       "      <td>MSFT</td>\n",
       "    </tr>\n",
       "  </tbody>\n",
       "</table>\n",
       "<p>5920 rows × 6 columns</p>\n",
       "</div>"
      ],
      "text/plain": [
       "              open    high      low   close    volume stock\n",
       "2015-01-02  111.39  111.44  107.350  109.33  53204626  AAPL\n",
       "2015-01-05  108.29  108.65  105.410  106.25  64285491  AAPL\n",
       "2015-01-06  106.54  107.43  104.630  106.26  65797116  AAPL\n",
       "2015-01-07  107.20  108.20  106.695  107.75  40105934  AAPL\n",
       "2015-01-08  109.23  112.15  108.700  111.89  59364547  AAPL\n",
       "...            ...     ...      ...     ...       ...   ...\n",
       "2020-11-10  214.50  216.50  209.720  211.01  44045120  MSFT\n",
       "2020-11-11  212.39  218.04  212.200  216.55  29440788  MSFT\n",
       "2020-11-12  217.21  219.11  214.460  215.44  21616115  MSFT\n",
       "2020-11-13  216.36  217.42  214.160  216.51  18630307  MSFT\n",
       "2020-11-16  214.87  217.74  214.520  217.23  24469712  MSFT\n",
       "\n",
       "[5920 rows x 6 columns]"
      ]
     },
     "execution_count": 41,
     "metadata": {},
     "output_type": "execute_result"
    }
   ],
   "source": [
    "df"
   ]
  },
  {
   "cell_type": "markdown",
   "metadata": {},
   "source": [
    "### Step 7. Create a dataFrame called vol, with the volume values."
   ]
  },
  {
   "cell_type": "code",
   "execution_count": null,
   "metadata": {},
   "outputs": [],
   "source": []
  },
  {
   "cell_type": "markdown",
   "metadata": {},
   "source": [
    "### Step 8. Aggregate the data of volume to weekly.\n",
    "Hint: Be careful to not sum data from the same week of 2015 and other years."
   ]
  },
  {
   "cell_type": "code",
   "execution_count": null,
   "metadata": {},
   "outputs": [],
   "source": []
  },
  {
   "cell_type": "markdown",
   "metadata": {},
   "source": [
    "### Step 9. Find all the volume traded in the year of 2015"
   ]
  },
  {
   "cell_type": "code",
   "execution_count": null,
   "metadata": {},
   "outputs": [],
   "source": []
  }
 ],
 "metadata": {
  "kernelspec": {
   "display_name": "Python 3",
   "language": "python",
   "name": "python3"
  },
  "language_info": {
   "codemirror_mode": {
    "name": "ipython",
    "version": 3
   },
   "file_extension": ".py",
   "mimetype": "text/x-python",
   "name": "python",
   "nbconvert_exporter": "python",
   "pygments_lexer": "ipython3",
   "version": "3.7.9"
  }
 },
 "nbformat": 4,
 "nbformat_minor": 4
}
